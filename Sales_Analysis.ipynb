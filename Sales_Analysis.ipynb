{
 "cells": [
  {
   "cell_type": "markdown",
   "id": "c38cac90",
   "metadata": {},
   "source": [
    "## Sales Analysis"
   ]
  },
  {
   "cell_type": "code",
   "execution_count": 1,
   "id": "0adc1e48",
   "metadata": {},
   "outputs": [],
   "source": [
    "# Importing libraries \n",
    "import pandas as pd\n",
    "import matplotlib.pyplot as plt"
   ]
  },
  {
   "cell_type": "code",
   "execution_count": 2,
   "id": "ce2d6c31",
   "metadata": {},
   "outputs": [],
   "source": [
    "df = pd.read_csv('/Users/swapnilthorat/Desktop/Study/DS_PROJ_PY_SALES/Exercise Files/MonthlyProductSales.csv', \n",
    "                 encoding=\"ISO-8859-1\")"
   ]
  },
  {
   "cell_type": "code",
   "execution_count": 3,
   "id": "81b343ac",
   "metadata": {},
   "outputs": [
    {
     "data": {
      "text/html": [
       "<div>\n",
       "<style scoped>\n",
       "    .dataframe tbody tr th:only-of-type {\n",
       "        vertical-align: middle;\n",
       "    }\n",
       "\n",
       "    .dataframe tbody tr th {\n",
       "        vertical-align: top;\n",
       "    }\n",
       "\n",
       "    .dataframe thead th {\n",
       "        text-align: right;\n",
       "    }\n",
       "</style>\n",
       "<table border=\"1\" class=\"dataframe\">\n",
       "  <thead>\n",
       "    <tr style=\"text-align: right;\">\n",
       "      <th></th>\n",
       "      <th>Month of Order Date</th>\n",
       "      <th>Product Name</th>\n",
       "      <th>Sales</th>\n",
       "    </tr>\n",
       "  </thead>\n",
       "  <tbody>\n",
       "    <tr>\n",
       "      <th>0</th>\n",
       "      <td>2013-05-01</td>\n",
       "      <td>1.7 Cubic Foot Compact \"Cube\" Office Refrigera...</td>\n",
       "      <td>208.0</td>\n",
       "    </tr>\n",
       "    <tr>\n",
       "      <th>1</th>\n",
       "      <td>2015-06-01</td>\n",
       "      <td>1.7 Cubic Foot Compact \"Cube\" Office Refrigera...</td>\n",
       "      <td>208.0</td>\n",
       "    </tr>\n",
       "    <tr>\n",
       "      <th>2</th>\n",
       "      <td>2013-11-01</td>\n",
       "      <td>1.7 Cubic Foot Compact \"Cube\" Office Refrigera...</td>\n",
       "      <td>333.0</td>\n",
       "    </tr>\n",
       "    <tr>\n",
       "      <th>3</th>\n",
       "      <td>2016-07-01</td>\n",
       "      <td>1.7 Cubic Foot Compact \"Cube\" Office Refrigera...</td>\n",
       "      <td>416.0</td>\n",
       "    </tr>\n",
       "    <tr>\n",
       "      <th>4</th>\n",
       "      <td>2016-11-01</td>\n",
       "      <td>1.7 Cubic Foot Compact \"Cube\" Office Refrigera...</td>\n",
       "      <td>500.0</td>\n",
       "    </tr>\n",
       "    <tr>\n",
       "      <th>5</th>\n",
       "      <td>2015-08-01</td>\n",
       "      <td>1.7 Cubic Foot Compact \"Cube\" Office Refrigera...</td>\n",
       "      <td>1041.0</td>\n",
       "    </tr>\n",
       "    <tr>\n",
       "      <th>6</th>\n",
       "      <td>2013-11-01</td>\n",
       "      <td>1/4 Fold Party Design Invitations &amp; White Enve...</td>\n",
       "      <td>6.0</td>\n",
       "    </tr>\n",
       "    <tr>\n",
       "      <th>7</th>\n",
       "      <td>2014-11-01</td>\n",
       "      <td>1/4 Fold Party Design Invitations &amp; White Enve...</td>\n",
       "      <td>44.0</td>\n",
       "    </tr>\n",
       "    <tr>\n",
       "      <th>8</th>\n",
       "      <td>2014-12-01</td>\n",
       "      <td>3-ring staple pack</td>\n",
       "      <td>4.0</td>\n",
       "    </tr>\n",
       "    <tr>\n",
       "      <th>9</th>\n",
       "      <td>2013-01-01</td>\n",
       "      <td>3-ring staple pack</td>\n",
       "      <td>6.0</td>\n",
       "    </tr>\n",
       "  </tbody>\n",
       "</table>\n",
       "</div>"
      ],
      "text/plain": [
       "  Month of Order Date                                       Product Name  \\\n",
       "0          2013-05-01  1.7 Cubic Foot Compact \"Cube\" Office Refrigera...   \n",
       "1          2015-06-01  1.7 Cubic Foot Compact \"Cube\" Office Refrigera...   \n",
       "2          2013-11-01  1.7 Cubic Foot Compact \"Cube\" Office Refrigera...   \n",
       "3          2016-07-01  1.7 Cubic Foot Compact \"Cube\" Office Refrigera...   \n",
       "4          2016-11-01  1.7 Cubic Foot Compact \"Cube\" Office Refrigera...   \n",
       "5          2015-08-01  1.7 Cubic Foot Compact \"Cube\" Office Refrigera...   \n",
       "6          2013-11-01  1/4 Fold Party Design Invitations & White Enve...   \n",
       "7          2014-11-01  1/4 Fold Party Design Invitations & White Enve...   \n",
       "8          2014-12-01                                 3-ring staple pack   \n",
       "9          2013-01-01                                 3-ring staple pack   \n",
       "\n",
       "    Sales  \n",
       "0   208.0  \n",
       "1   208.0  \n",
       "2   333.0  \n",
       "3   416.0  \n",
       "4   500.0  \n",
       "5  1041.0  \n",
       "6     6.0  \n",
       "7    44.0  \n",
       "8     4.0  \n",
       "9     6.0  "
      ]
     },
     "execution_count": 3,
     "metadata": {},
     "output_type": "execute_result"
    }
   ],
   "source": [
    "df.head(n=10)"
   ]
  },
  {
   "cell_type": "code",
   "execution_count": 4,
   "id": "613f7bfb",
   "metadata": {},
   "outputs": [
    {
     "data": {
      "text/html": [
       "<div>\n",
       "<style scoped>\n",
       "    .dataframe tbody tr th:only-of-type {\n",
       "        vertical-align: middle;\n",
       "    }\n",
       "\n",
       "    .dataframe tbody tr th {\n",
       "        vertical-align: top;\n",
       "    }\n",
       "\n",
       "    .dataframe thead th {\n",
       "        text-align: right;\n",
       "    }\n",
       "</style>\n",
       "<table border=\"1\" class=\"dataframe\">\n",
       "  <thead>\n",
       "    <tr style=\"text-align: right;\">\n",
       "      <th></th>\n",
       "      <th>Month of Order Date</th>\n",
       "      <th>Product Name</th>\n",
       "      <th>Sales</th>\n",
       "    </tr>\n",
       "  </thead>\n",
       "  <tbody>\n",
       "    <tr>\n",
       "      <th>9242</th>\n",
       "      <td>2015-07-01</td>\n",
       "      <td>Zipper Ring Binder Pockets</td>\n",
       "      <td>2.0</td>\n",
       "    </tr>\n",
       "    <tr>\n",
       "      <th>9243</th>\n",
       "      <td>2015-12-01</td>\n",
       "      <td>Zipper Ring Binder Pockets</td>\n",
       "      <td>3.0</td>\n",
       "    </tr>\n",
       "    <tr>\n",
       "      <th>9244</th>\n",
       "      <td>2016-01-01</td>\n",
       "      <td>Zipper Ring Binder Pockets</td>\n",
       "      <td>3.0</td>\n",
       "    </tr>\n",
       "    <tr>\n",
       "      <th>9245</th>\n",
       "      <td>2015-11-01</td>\n",
       "      <td>Zipper Ring Binder Pockets</td>\n",
       "      <td>4.0</td>\n",
       "    </tr>\n",
       "    <tr>\n",
       "      <th>9246</th>\n",
       "      <td>2014-11-01</td>\n",
       "      <td>Zipper Ring Binder Pockets</td>\n",
       "      <td>6.0</td>\n",
       "    </tr>\n",
       "    <tr>\n",
       "      <th>9247</th>\n",
       "      <td>2016-06-01</td>\n",
       "      <td>Zipper Ring Binder Pockets</td>\n",
       "      <td>6.0</td>\n",
       "    </tr>\n",
       "    <tr>\n",
       "      <th>9248</th>\n",
       "      <td>2016-07-01</td>\n",
       "      <td>Zipper Ring Binder Pockets</td>\n",
       "      <td>10.0</td>\n",
       "    </tr>\n",
       "    <tr>\n",
       "      <th>9249</th>\n",
       "      <td>2013-04-01</td>\n",
       "      <td>Zipper Ring Binder Pockets</td>\n",
       "      <td>14.0</td>\n",
       "    </tr>\n",
       "    <tr>\n",
       "      <th>9250</th>\n",
       "      <td>2016-12-01</td>\n",
       "      <td>Zipper Ring Binder Pockets</td>\n",
       "      <td>15.0</td>\n",
       "    </tr>\n",
       "    <tr>\n",
       "      <th>9251</th>\n",
       "      <td>2013-07-01</td>\n",
       "      <td>Zipper Ring Binder Pockets</td>\n",
       "      <td>16.0</td>\n",
       "    </tr>\n",
       "  </tbody>\n",
       "</table>\n",
       "</div>"
      ],
      "text/plain": [
       "     Month of Order Date                Product Name  Sales\n",
       "9242          2015-07-01  Zipper Ring Binder Pockets    2.0\n",
       "9243          2015-12-01  Zipper Ring Binder Pockets    3.0\n",
       "9244          2016-01-01  Zipper Ring Binder Pockets    3.0\n",
       "9245          2015-11-01  Zipper Ring Binder Pockets    4.0\n",
       "9246          2014-11-01  Zipper Ring Binder Pockets    6.0\n",
       "9247          2016-06-01  Zipper Ring Binder Pockets    6.0\n",
       "9248          2016-07-01  Zipper Ring Binder Pockets   10.0\n",
       "9249          2013-04-01  Zipper Ring Binder Pockets   14.0\n",
       "9250          2016-12-01  Zipper Ring Binder Pockets   15.0\n",
       "9251          2013-07-01  Zipper Ring Binder Pockets   16.0"
      ]
     },
     "execution_count": 4,
     "metadata": {},
     "output_type": "execute_result"
    }
   ],
   "source": [
    "df.tail(n=10)"
   ]
  },
  {
   "cell_type": "code",
   "execution_count": 5,
   "id": "b083c17e",
   "metadata": {},
   "outputs": [
    {
     "data": {
      "text/html": [
       "<div>\n",
       "<style scoped>\n",
       "    .dataframe tbody tr th:only-of-type {\n",
       "        vertical-align: middle;\n",
       "    }\n",
       "\n",
       "    .dataframe tbody tr th {\n",
       "        vertical-align: top;\n",
       "    }\n",
       "\n",
       "    .dataframe thead th {\n",
       "        text-align: right;\n",
       "    }\n",
       "</style>\n",
       "<table border=\"1\" class=\"dataframe\">\n",
       "  <thead>\n",
       "    <tr style=\"text-align: right;\">\n",
       "      <th></th>\n",
       "      <th>Sales</th>\n",
       "    </tr>\n",
       "  </thead>\n",
       "  <tbody>\n",
       "    <tr>\n",
       "      <th>count</th>\n",
       "      <td>9252.000000</td>\n",
       "    </tr>\n",
       "    <tr>\n",
       "      <th>mean</th>\n",
       "      <td>248.308798</td>\n",
       "    </tr>\n",
       "    <tr>\n",
       "      <th>std</th>\n",
       "      <td>669.441779</td>\n",
       "    </tr>\n",
       "    <tr>\n",
       "      <th>min</th>\n",
       "      <td>0.000000</td>\n",
       "    </tr>\n",
       "    <tr>\n",
       "      <th>25%</th>\n",
       "      <td>18.000000</td>\n",
       "    </tr>\n",
       "    <tr>\n",
       "      <th>50%</th>\n",
       "      <td>60.000000</td>\n",
       "    </tr>\n",
       "    <tr>\n",
       "      <th>75%</th>\n",
       "      <td>222.000000</td>\n",
       "    </tr>\n",
       "    <tr>\n",
       "      <th>max</th>\n",
       "      <td>22638.000000</td>\n",
       "    </tr>\n",
       "  </tbody>\n",
       "</table>\n",
       "</div>"
      ],
      "text/plain": [
       "              Sales\n",
       "count   9252.000000\n",
       "mean     248.308798\n",
       "std      669.441779\n",
       "min        0.000000\n",
       "25%       18.000000\n",
       "50%       60.000000\n",
       "75%      222.000000\n",
       "max    22638.000000"
      ]
     },
     "execution_count": 5,
     "metadata": {},
     "output_type": "execute_result"
    }
   ],
   "source": [
    "df.describe()"
   ]
  },
  {
   "cell_type": "code",
   "execution_count": 6,
   "id": "8e6cc5b1",
   "metadata": {},
   "outputs": [
    {
     "name": "stdout",
     "output_type": "stream",
     "text": [
      "<class 'pandas.core.frame.DataFrame'>\n",
      "RangeIndex: 9252 entries, 0 to 9251\n",
      "Data columns (total 3 columns):\n",
      " #   Column               Non-Null Count  Dtype  \n",
      "---  ------               --------------  -----  \n",
      " 0   Month of Order Date  9252 non-null   object \n",
      " 1   Product Name         9252 non-null   object \n",
      " 2   Sales                9252 non-null   float64\n",
      "dtypes: float64(1), object(2)\n",
      "memory usage: 217.0+ KB\n"
     ]
    }
   ],
   "source": [
    "df.info()"
   ]
  },
  {
   "cell_type": "code",
   "execution_count": 7,
   "id": "f22f9f6a",
   "metadata": {},
   "outputs": [
    {
     "data": {
      "text/plain": [
       "Easy-staple paper                                    32\n",
       "Staples                                              30\n",
       "Staple envelope                                      30\n",
       "Staples in misc. colors                              18\n",
       "Storex Dura Pro Binders                              14\n",
       "                                                     ..\n",
       "Boston 1900 Electric Pencil Sharpener                 1\n",
       "Holmes Harmony HEPA Air Purifier for 17 x 20 Room     1\n",
       "Xerox 1984                                            1\n",
       "Ultra Commercial Grade Dual Valve Door Closer         1\n",
       "Zebra ZM400 Thermal Label Printer                     1\n",
       "Name: Product Name, Length: 1850, dtype: int64"
      ]
     },
     "execution_count": 7,
     "metadata": {},
     "output_type": "execute_result"
    }
   ],
   "source": [
    "s=df[\"Product Name\"]\n",
    "s.value_counts(dropna=False)"
   ]
  },
  {
   "cell_type": "code",
   "execution_count": 8,
   "id": "88c88d87",
   "metadata": {},
   "outputs": [
    {
     "data": {
      "text/plain": [
       "0       2013\n",
       "1       2015\n",
       "2       2013\n",
       "3       2016\n",
       "4       2016\n",
       "        ... \n",
       "9247    2016\n",
       "9248    2016\n",
       "9249    2013\n",
       "9250    2016\n",
       "9251    2013\n",
       "Name: Month of Order Date, Length: 9252, dtype: object"
      ]
     },
     "execution_count": 8,
     "metadata": {},
     "output_type": "execute_result"
    }
   ],
   "source": [
    "df['Month of Order Date'].str[:4]"
   ]
  },
  {
   "cell_type": "code",
   "execution_count": 9,
   "id": "20f5b923",
   "metadata": {},
   "outputs": [
    {
     "data": {
      "text/html": [
       "<div>\n",
       "<style scoped>\n",
       "    .dataframe tbody tr th:only-of-type {\n",
       "        vertical-align: middle;\n",
       "    }\n",
       "\n",
       "    .dataframe tbody tr th {\n",
       "        vertical-align: top;\n",
       "    }\n",
       "\n",
       "    .dataframe thead tr th {\n",
       "        text-align: left;\n",
       "    }\n",
       "\n",
       "    .dataframe thead tr:last-of-type th {\n",
       "        text-align: right;\n",
       "    }\n",
       "</style>\n",
       "<table border=\"1\" class=\"dataframe\">\n",
       "  <thead>\n",
       "    <tr>\n",
       "      <th></th>\n",
       "      <th colspan=\"8\" halign=\"left\">Sales</th>\n",
       "    </tr>\n",
       "    <tr>\n",
       "      <th></th>\n",
       "      <th>count</th>\n",
       "      <th>mean</th>\n",
       "      <th>std</th>\n",
       "      <th>min</th>\n",
       "      <th>25%</th>\n",
       "      <th>50%</th>\n",
       "      <th>75%</th>\n",
       "      <th>max</th>\n",
       "    </tr>\n",
       "    <tr>\n",
       "      <th>Month of Order Date</th>\n",
       "      <th></th>\n",
       "      <th></th>\n",
       "      <th></th>\n",
       "      <th></th>\n",
       "      <th></th>\n",
       "      <th></th>\n",
       "      <th></th>\n",
       "      <th></th>\n",
       "    </tr>\n",
       "  </thead>\n",
       "  <tbody>\n",
       "    <tr>\n",
       "      <th>2013</th>\n",
       "      <td>1875.0</td>\n",
       "      <td>258.267200</td>\n",
       "      <td>803.537374</td>\n",
       "      <td>1.0</td>\n",
       "      <td>17.0</td>\n",
       "      <td>55.0</td>\n",
       "      <td>224.00</td>\n",
       "      <td>22638.0</td>\n",
       "    </tr>\n",
       "    <tr>\n",
       "      <th>2014</th>\n",
       "      <td>1968.0</td>\n",
       "      <td>239.107215</td>\n",
       "      <td>521.330289</td>\n",
       "      <td>1.0</td>\n",
       "      <td>19.0</td>\n",
       "      <td>62.0</td>\n",
       "      <td>225.25</td>\n",
       "      <td>7312.0</td>\n",
       "    </tr>\n",
       "    <tr>\n",
       "      <th>2015</th>\n",
       "      <td>2400.0</td>\n",
       "      <td>253.550833</td>\n",
       "      <td>711.795040</td>\n",
       "      <td>1.0</td>\n",
       "      <td>19.0</td>\n",
       "      <td>58.5</td>\n",
       "      <td>222.00</td>\n",
       "      <td>17500.0</td>\n",
       "    </tr>\n",
       "    <tr>\n",
       "      <th>2016</th>\n",
       "      <td>3009.0</td>\n",
       "      <td>243.940512</td>\n",
       "      <td>627.741547</td>\n",
       "      <td>0.0</td>\n",
       "      <td>18.0</td>\n",
       "      <td>60.0</td>\n",
       "      <td>221.00</td>\n",
       "      <td>14000.0</td>\n",
       "    </tr>\n",
       "  </tbody>\n",
       "</table>\n",
       "</div>"
      ],
      "text/plain": [
       "                      Sales                                                   \\\n",
       "                      count        mean         std  min   25%   50%     75%   \n",
       "Month of Order Date                                                            \n",
       "2013                 1875.0  258.267200  803.537374  1.0  17.0  55.0  224.00   \n",
       "2014                 1968.0  239.107215  521.330289  1.0  19.0  62.0  225.25   \n",
       "2015                 2400.0  253.550833  711.795040  1.0  19.0  58.5  222.00   \n",
       "2016                 3009.0  243.940512  627.741547  0.0  18.0  60.0  221.00   \n",
       "\n",
       "                              \n",
       "                         max  \n",
       "Month of Order Date           \n",
       "2013                 22638.0  \n",
       "2014                  7312.0  \n",
       "2015                 17500.0  \n",
       "2016                 14000.0  "
      ]
     },
     "execution_count": 9,
     "metadata": {},
     "output_type": "execute_result"
    }
   ],
   "source": [
    "df.groupby(df['Month of Order Date'].str[:4]).describe()"
   ]
  },
  {
   "cell_type": "code",
   "execution_count": 10,
   "id": "3357f511",
   "metadata": {},
   "outputs": [
    {
     "data": {
      "text/html": [
       "<div>\n",
       "<style scoped>\n",
       "    .dataframe tbody tr th:only-of-type {\n",
       "        vertical-align: middle;\n",
       "    }\n",
       "\n",
       "    .dataframe tbody tr th {\n",
       "        vertical-align: top;\n",
       "    }\n",
       "\n",
       "    .dataframe thead tr th {\n",
       "        text-align: left;\n",
       "    }\n",
       "</style>\n",
       "<table border=\"1\" class=\"dataframe\">\n",
       "  <thead>\n",
       "    <tr>\n",
       "      <th></th>\n",
       "      <th>Year</th>\n",
       "      <th colspan=\"8\" halign=\"left\">Sales</th>\n",
       "    </tr>\n",
       "    <tr>\n",
       "      <th></th>\n",
       "      <th></th>\n",
       "      <th>count</th>\n",
       "      <th>mean</th>\n",
       "      <th>std</th>\n",
       "      <th>min</th>\n",
       "      <th>25%</th>\n",
       "      <th>50%</th>\n",
       "      <th>75%</th>\n",
       "      <th>max</th>\n",
       "    </tr>\n",
       "  </thead>\n",
       "  <tbody>\n",
       "    <tr>\n",
       "      <th>0</th>\n",
       "      <td>2013</td>\n",
       "      <td>1875.0</td>\n",
       "      <td>258.267200</td>\n",
       "      <td>803.537374</td>\n",
       "      <td>1.0</td>\n",
       "      <td>17.0</td>\n",
       "      <td>55.0</td>\n",
       "      <td>224.00</td>\n",
       "      <td>22638.0</td>\n",
       "    </tr>\n",
       "    <tr>\n",
       "      <th>1</th>\n",
       "      <td>2014</td>\n",
       "      <td>1968.0</td>\n",
       "      <td>239.107215</td>\n",
       "      <td>521.330289</td>\n",
       "      <td>1.0</td>\n",
       "      <td>19.0</td>\n",
       "      <td>62.0</td>\n",
       "      <td>225.25</td>\n",
       "      <td>7312.0</td>\n",
       "    </tr>\n",
       "    <tr>\n",
       "      <th>2</th>\n",
       "      <td>2015</td>\n",
       "      <td>2400.0</td>\n",
       "      <td>253.550833</td>\n",
       "      <td>711.795040</td>\n",
       "      <td>1.0</td>\n",
       "      <td>19.0</td>\n",
       "      <td>58.5</td>\n",
       "      <td>222.00</td>\n",
       "      <td>17500.0</td>\n",
       "    </tr>\n",
       "    <tr>\n",
       "      <th>3</th>\n",
       "      <td>2016</td>\n",
       "      <td>3009.0</td>\n",
       "      <td>243.940512</td>\n",
       "      <td>627.741547</td>\n",
       "      <td>0.0</td>\n",
       "      <td>18.0</td>\n",
       "      <td>60.0</td>\n",
       "      <td>221.00</td>\n",
       "      <td>14000.0</td>\n",
       "    </tr>\n",
       "  </tbody>\n",
       "</table>\n",
       "</div>"
      ],
      "text/plain": [
       "   Year   Sales                                                          \n",
       "          count        mean         std  min   25%   50%     75%      max\n",
       "0  2013  1875.0  258.267200  803.537374  1.0  17.0  55.0  224.00  22638.0\n",
       "1  2014  1968.0  239.107215  521.330289  1.0  19.0  62.0  225.25   7312.0\n",
       "2  2015  2400.0  253.550833  711.795040  1.0  19.0  58.5  222.00  17500.0\n",
       "3  2016  3009.0  243.940512  627.741547  0.0  18.0  60.0  221.00  14000.0"
      ]
     },
     "execution_count": 10,
     "metadata": {},
     "output_type": "execute_result"
    }
   ],
   "source": [
    "df.groupby(df[\"Month of Order Date\"].str[:4]).describe().reset_index().rename(columns={\"Month of Order Date\":\"Year\"})"
   ]
  },
  {
   "cell_type": "code",
   "execution_count": 11,
   "id": "2967de17",
   "metadata": {},
   "outputs": [
    {
     "data": {
      "text/html": [
       "<div>\n",
       "<style scoped>\n",
       "    .dataframe tbody tr th:only-of-type {\n",
       "        vertical-align: middle;\n",
       "    }\n",
       "\n",
       "    .dataframe tbody tr th {\n",
       "        vertical-align: top;\n",
       "    }\n",
       "\n",
       "    .dataframe thead th {\n",
       "        text-align: right;\n",
       "    }\n",
       "</style>\n",
       "<table border=\"1\" class=\"dataframe\">\n",
       "  <thead>\n",
       "    <tr style=\"text-align: right;\">\n",
       "      <th></th>\n",
       "      <th>Year</th>\n",
       "      <th>Product Name</th>\n",
       "      <th>Sales</th>\n",
       "    </tr>\n",
       "  </thead>\n",
       "  <tbody>\n",
       "    <tr>\n",
       "      <th>0</th>\n",
       "      <td>2013</td>\n",
       "      <td>#10 White Business Envelopes,4 1/8 x 9 1/2</td>\n",
       "      <td>156.0</td>\n",
       "    </tr>\n",
       "    <tr>\n",
       "      <th>1</th>\n",
       "      <td>2013</td>\n",
       "      <td>#10- 4 1/8\" x 9 1/2\" Recycled Envelopes</td>\n",
       "      <td>63.0</td>\n",
       "    </tr>\n",
       "    <tr>\n",
       "      <th>2</th>\n",
       "      <td>2013</td>\n",
       "      <td>#10- 4 1/8\" x 9 1/2\" Security-Tint Envelopes</td>\n",
       "      <td>23.0</td>\n",
       "    </tr>\n",
       "    <tr>\n",
       "      <th>3</th>\n",
       "      <td>2013</td>\n",
       "      <td>1.7 Cubic Foot Compact \"Cube\" Office Refrigera...</td>\n",
       "      <td>541.0</td>\n",
       "    </tr>\n",
       "    <tr>\n",
       "      <th>4</th>\n",
       "      <td>2013</td>\n",
       "      <td>1/4 Fold Party Design Invitations &amp; White Enve...</td>\n",
       "      <td>6.0</td>\n",
       "    </tr>\n",
       "    <tr>\n",
       "      <th>...</th>\n",
       "      <td>...</td>\n",
       "      <td>...</td>\n",
       "      <td>...</td>\n",
       "    </tr>\n",
       "    <tr>\n",
       "      <th>5321</th>\n",
       "      <td>2016</td>\n",
       "      <td>iKross Bluetooth Portable Keyboard + Cell Phon...</td>\n",
       "      <td>67.0</td>\n",
       "    </tr>\n",
       "    <tr>\n",
       "      <th>5322</th>\n",
       "      <td>2016</td>\n",
       "      <td>iOttie HLCRIO102 Car Mount</td>\n",
       "      <td>120.0</td>\n",
       "    </tr>\n",
       "    <tr>\n",
       "      <th>5323</th>\n",
       "      <td>2016</td>\n",
       "      <td>iOttie XL Car Mount</td>\n",
       "      <td>224.0</td>\n",
       "    </tr>\n",
       "    <tr>\n",
       "      <th>5324</th>\n",
       "      <td>2016</td>\n",
       "      <td>invisibleSHIELD by ZAGG Smudge-Free Screen Pro...</td>\n",
       "      <td>205.0</td>\n",
       "    </tr>\n",
       "    <tr>\n",
       "      <th>5325</th>\n",
       "      <td>2016</td>\n",
       "      <td>netTALK DUO VoIP Telephone Service</td>\n",
       "      <td>168.0</td>\n",
       "    </tr>\n",
       "  </tbody>\n",
       "</table>\n",
       "<p>5326 rows × 3 columns</p>\n",
       "</div>"
      ],
      "text/plain": [
       "      Year                                       Product Name  Sales\n",
       "0     2013         #10 White Business Envelopes,4 1/8 x 9 1/2  156.0\n",
       "1     2013            #10- 4 1/8\" x 9 1/2\" Recycled Envelopes   63.0\n",
       "2     2013       #10- 4 1/8\" x 9 1/2\" Security-Tint Envelopes   23.0\n",
       "3     2013  1.7 Cubic Foot Compact \"Cube\" Office Refrigera...  541.0\n",
       "4     2013  1/4 Fold Party Design Invitations & White Enve...    6.0\n",
       "...    ...                                                ...    ...\n",
       "5321  2016  iKross Bluetooth Portable Keyboard + Cell Phon...   67.0\n",
       "5322  2016                         iOttie HLCRIO102 Car Mount  120.0\n",
       "5323  2016                                iOttie XL Car Mount  224.0\n",
       "5324  2016  invisibleSHIELD by ZAGG Smudge-Free Screen Pro...  205.0\n",
       "5325  2016                 netTALK DUO VoIP Telephone Service  168.0\n",
       "\n",
       "[5326 rows x 3 columns]"
      ]
     },
     "execution_count": 11,
     "metadata": {},
     "output_type": "execute_result"
    }
   ],
   "source": [
    "yearly_product_sales = df.groupby([df[\"Month of Order Date\"].str[:4], \"Product Name\"]).sum().reset_index()\n",
    "yearly_product_sales=yearly_product_sales.rename(columns={\"Month of Order Date\":\"Year\"})\n",
    "yearly_product_sales"
   ]
  },
  {
   "cell_type": "code",
   "execution_count": 12,
   "id": "3ddd3b93",
   "metadata": {},
   "outputs": [
    {
     "data": {
      "text/html": [
       "<div>\n",
       "<style scoped>\n",
       "    .dataframe tbody tr th:only-of-type {\n",
       "        vertical-align: middle;\n",
       "    }\n",
       "\n",
       "    .dataframe tbody tr th {\n",
       "        vertical-align: top;\n",
       "    }\n",
       "\n",
       "    .dataframe thead th {\n",
       "        text-align: right;\n",
       "    }\n",
       "</style>\n",
       "<table border=\"1\" class=\"dataframe\">\n",
       "  <thead>\n",
       "    <tr style=\"text-align: right;\">\n",
       "      <th></th>\n",
       "      <th>Product Name</th>\n",
       "      <th>Sales</th>\n",
       "    </tr>\n",
       "  </thead>\n",
       "  <tbody>\n",
       "    <tr>\n",
       "      <th>0</th>\n",
       "      <td>\"While you Were Out\" Message Book, One Form pe...</td>\n",
       "      <td>25.0</td>\n",
       "    </tr>\n",
       "    <tr>\n",
       "      <th>1</th>\n",
       "      <td>#10 Gummed Flap White Envelopes, 100/Box</td>\n",
       "      <td>42.0</td>\n",
       "    </tr>\n",
       "    <tr>\n",
       "      <th>2</th>\n",
       "      <td>#10 Self-Seal White Envelopes</td>\n",
       "      <td>109.0</td>\n",
       "    </tr>\n",
       "    <tr>\n",
       "      <th>3</th>\n",
       "      <td>#10 White Business Envelopes,4 1/8 x 9 1/2</td>\n",
       "      <td>489.0</td>\n",
       "    </tr>\n",
       "    <tr>\n",
       "      <th>4</th>\n",
       "      <td>#10- 4 1/8\" x 9 1/2\" Recycled Envelopes</td>\n",
       "      <td>286.0</td>\n",
       "    </tr>\n",
       "    <tr>\n",
       "      <th>...</th>\n",
       "      <td>...</td>\n",
       "      <td>...</td>\n",
       "    </tr>\n",
       "    <tr>\n",
       "      <th>1845</th>\n",
       "      <td>iKross Bluetooth Portable Keyboard + Cell Phon...</td>\n",
       "      <td>479.0</td>\n",
       "    </tr>\n",
       "    <tr>\n",
       "      <th>1846</th>\n",
       "      <td>iOttie HLCRIO102 Car Mount</td>\n",
       "      <td>216.0</td>\n",
       "    </tr>\n",
       "    <tr>\n",
       "      <th>1847</th>\n",
       "      <td>iOttie XL Car Mount</td>\n",
       "      <td>224.0</td>\n",
       "    </tr>\n",
       "    <tr>\n",
       "      <th>1848</th>\n",
       "      <td>invisibleSHIELD by ZAGG Smudge-Free Screen Pro...</td>\n",
       "      <td>442.0</td>\n",
       "    </tr>\n",
       "    <tr>\n",
       "      <th>1849</th>\n",
       "      <td>netTALK DUO VoIP Telephone Service</td>\n",
       "      <td>1113.0</td>\n",
       "    </tr>\n",
       "  </tbody>\n",
       "</table>\n",
       "<p>1850 rows × 2 columns</p>\n",
       "</div>"
      ],
      "text/plain": [
       "                                           Product Name   Sales\n",
       "0     \"While you Were Out\" Message Book, One Form pe...    25.0\n",
       "1              #10 Gummed Flap White Envelopes, 100/Box    42.0\n",
       "2                         #10 Self-Seal White Envelopes   109.0\n",
       "3            #10 White Business Envelopes,4 1/8 x 9 1/2   489.0\n",
       "4               #10- 4 1/8\" x 9 1/2\" Recycled Envelopes   286.0\n",
       "...                                                 ...     ...\n",
       "1845  iKross Bluetooth Portable Keyboard + Cell Phon...   479.0\n",
       "1846                         iOttie HLCRIO102 Car Mount   216.0\n",
       "1847                                iOttie XL Car Mount   224.0\n",
       "1848  invisibleSHIELD by ZAGG Smudge-Free Screen Pro...   442.0\n",
       "1849                 netTALK DUO VoIP Telephone Service  1113.0\n",
       "\n",
       "[1850 rows x 2 columns]"
      ]
     },
     "execution_count": 12,
     "metadata": {},
     "output_type": "execute_result"
    }
   ],
   "source": [
    "df.groupby(\"Product Name\").sum().reset_index()"
   ]
  },
  {
   "cell_type": "code",
   "execution_count": 13,
   "id": "8f35fab5",
   "metadata": {},
   "outputs": [],
   "source": [
    "yearly_product_sales.to_csv(\"yearly_product.csv\", header=True, index=False, encoding=\"utf-8\")"
   ]
  },
  {
   "cell_type": "code",
   "execution_count": 14,
   "id": "a2a8f59a",
   "metadata": {},
   "outputs": [],
   "source": [
    "yearly_product_sales.to_excel(\"yearly_product.xlsx\", header=True, index=False)"
   ]
  },
  {
   "cell_type": "code",
   "execution_count": 15,
   "id": "fa0de139",
   "metadata": {},
   "outputs": [
    {
     "data": {
      "text/plain": [
       "<AxesSubplot:xlabel='Month of Order Date'>"
      ]
     },
     "execution_count": 15,
     "metadata": {},
     "output_type": "execute_result"
    },
    {
     "data": {
      "image/png": "[encoded data removed]",
      "text/plain": [
       "<Figure size 432x288 with 1 Axes>"
      ]
     },
     "metadata": {
      "needs_background": "light"
     },
     "output_type": "display_data"
    }
   ],
   "source": [
    "df.groupby(\"Month of Order Date\").sum().plot()"
   ]
  },
  {
   "cell_type": "code",
   "execution_count": 16,
   "id": "be303a1e",
   "metadata": {},
   "outputs": [
    {
     "data": {
      "text/plain": [
       "<AxesSubplot:ylabel='Frequency'>"
      ]
     },
     "execution_count": 16,
     "metadata": {},
     "output_type": "execute_result"
    },
    {
     "data": {
      "image/png": "[encoded data removed]",
      "text/plain": [
       "<Figure size 432x288 with 1 Axes>"
      ]
     },
     "metadata": {
      "needs_background": "light"
     },
     "output_type": "display_data"
    }
   ],
   "source": [
    "df.groupby(\"Month of Order Date\").sum().plot(kind='hist', bins=10)"
   ]
  },
  {
   "cell_type": "code",
   "execution_count": 17,
   "id": "d73aa2f6",
   "metadata": {},
   "outputs": [
    {
     "data": {
      "text/plain": [
       "<AxesSubplot:ylabel='Product Name'>"
      ]
     },
     "execution_count": 17,
     "metadata": {},
     "output_type": "execute_result"
    },
    {
     "data": {
      "image/png": "[encoded data removed]",
      "text/plain": [
       "<Figure size 432x288 with 1 Axes>"
      ]
     },
     "metadata": {
      "needs_background": "light"
     },
     "output_type": "display_data"
    }
   ],
   "source": [
    "df.groupby(\"Product Name\").sum().sort_values(by='Sales', ascending=False).head(10).plot(kind='barh')"
   ]
  },
  {
   "cell_type": "code",
   "execution_count": null,
   "id": "0ded9bf5",
   "metadata": {},
   "outputs": [],
   "source": []
  }
 ],
 "metadata": {
  "kernelspec": {
   "display_name": "Python 3",
   "language": "python",
   "name": "python3"
  },
  "language_info": {
   "codemirror_mode": {
    "name": "ipython",
    "version": 3
   },
   "file_extension": ".py",
   "mimetype": "text/x-python",
   "name": "python",
   "nbconvert_exporter": "python",
   "pygments_lexer": "ipython3",
   "version": "3.8.2"
  }
 },
 "nbformat": 4,
 "nbformat_minor": 5
}
